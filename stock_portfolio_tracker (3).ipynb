{
 "cells": [
  {
   "cell_type": "code",
   "execution_count": 3,
   "id": "91009cd8-242e-40df-825f-69ad605e6d61",
   "metadata": {},
   "outputs": [
    {
     "name": "stdin",
     "output_type": "stream",
     "text": [
      "How many different stocks do you have?  3\n",
      "Enter stock name (e.g., RELIANCE, TCS, INFY):  TCS\n",
      "Enter quantity of TCS:  4\n",
      "Enter stock name (e.g., RELIANCE, TCS, INFY):  INFY\n",
      "Enter quantity of INFY:  6\n",
      "Enter stock name (e.g., RELIANCE, TCS, INFY):  HDFC\n",
      "Enter quantity of HDFC:  3\n"
     ]
    },
    {
     "name": "stdout",
     "output_type": "stream",
     "text": [
      "\n",
      "📊 Portfolio Summary:\n",
      "TCS: 4 x ₹3800 = ₹15200\n",
      "INFY: 6 x ₹1600 = ₹9600\n",
      "HDFC: 3 x ₹1700 = ₹5100\n",
      "\n",
      "💰 Total Investment: ₹29900\n"
     ]
    }
   ],
   "source": [
    "# Hardcoded stock prices in INR (Indian Rupees)\n",
    "stock_prices = {\n",
    "    \"RELIANCE\": 2700,   # Reliance Industries\n",
    "    \"TCS\": 3800,        # Tata Consultancy Services\n",
    "    \"INFY\": 1600,       # Infosys\n",
    "    \"HDFC\": 1700,       # HDFC Bank\n",
    "    \"ICICI\": 1100       # ICICI Bank\n",
    "}\n",
    "\n",
    "# To store the total value of portfolio\n",
    "total_investment = 0\n",
    "\n",
    "# To keep details of each stock entered by user\n",
    "portfolio = []\n",
    "\n",
    "# Step 1: Ask user how many different stocks they own\n",
    "num_stocks = int(input(\"How many different stocks do you have? \"))\n",
    "\n",
    "# Step 2: Get stock details from user\n",
    "for i in range(num_stocks):\n",
    "    stock_name = input(\"Enter stock name (e.g., RELIANCE, TCS, INFY): \").upper()\n",
    "    quantity = int(input(f\"Enter quantity of {stock_name}: \"))\n",
    "\n",
    "    # Check if stock is in our price list\n",
    "    if stock_name in stock_prices:\n",
    "        price = stock_prices[stock_name]\n",
    "        value = price * quantity\n",
    "        total_investment += value\n",
    "        portfolio.append((stock_name, quantity, price, value))\n",
    "    else:\n",
    "        print(f\"⚠️ Price for {stock_name} not found. Skipping...\")\n",
    "\n",
    "# Step 3: Display Portfolio Summary\n",
    "print(\"\\n📊 Portfolio Summary:\")\n",
    "for stock in portfolio:\n",
    "    print(f\"{stock[0]}: {stock[1]} x ₹{stock[2]} = ₹{stock[3]}\")\n",
    "\n",
    "print(f\"\\n💰 Total Investment: ₹{total_investment}\")\n"
   ]
  },
  {
   "cell_type": "code",
   "execution_count": null,
   "id": "02972c66-182a-46db-ab31-325712db417d",
   "metadata": {},
   "outputs": [],
   "source": []
  }
 ],
 "metadata": {
  "kernelspec": {
   "display_name": "Python 3 (ipykernel)",
   "language": "python",
   "name": "python3"
  },
  "language_info": {
   "codemirror_mode": {
    "name": "ipython",
    "version": 3
   },
   "file_extension": ".py",
   "mimetype": "text/x-python",
   "name": "python",
   "nbconvert_exporter": "python",
   "pygments_lexer": "ipython3",
   "version": "3.12.7"
  }
 },
 "nbformat": 4,
 "nbformat_minor": 5
}
